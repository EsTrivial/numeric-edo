{
 "cells": [
  {
   "cell_type": "markdown",
   "metadata": {},
   "source": [
    "<a href=\"https://colab.research.google.com/github/e-aranda/numeric-edo/blob/main/eurler.ipynb\" target=\"_blank\"><img src=\"https://colab.research.google.com/assets/colab-badge.svg\"></a>"
   ]
  },
  {
   "cell_type": "markdown",
   "metadata": {
    "id": "giXlnwOqHaCD"
   },
   "source": [
    "## Preliminares"
   ]
  },
  {
   "cell_type": "markdown",
   "metadata": {
    "id": "40o-c9anHaCE"
   },
   "source": [
    "La siguiente celda contiene todas las funciones necesarias para ejecutar el resto del cuaderno. Debes ejecutarla siempre en primer lugar"
   ]
  },
  {
   "cell_type": "code",
   "execution_count": null,
   "metadata": {
    "id": "IX--i7FMHaCF"
   },
   "outputs": [],
   "source": [
    "from numpy import *\n",
    "import matplotlib.pyplot as plt\n",
    "\n",
    "# impresión de resultados\n",
    "\"\"\"\n",
    "printSoln(X,Y,freq,[exact]).\n",
    "Imprime los valores de X e Y cada 'freq' pasos\n",
    "freq = n imprime cada n pasos\n",
    "freq = 0 imprime solo el paso final (por defecto)\n",
    "Imprime (opcionalmente) el error entre la solución \n",
    "exacta (exact) y la calculada (Y)\n",
    "Retorna (opcionalmente) el máximo valor absoluto del error\n",
    "\"\"\"\n",
    "def printSoln(X, Y, freq=0, exact = []):\n",
    "    # imprime cabecera\n",
    "    def printHead(n):\n",
    "        print(\"\\n\", end=\"\")\n",
    "        print(\"{:^17}\".format('x'), end=\"\")\n",
    "        if n == 1:\n",
    "            print(\"{:^17}\".format(\"y\"), end=\"\")\n",
    "        else:\n",
    "            for i in range (n):\n",
    "                print(\"{:^17}\".format(\"y[{}]\".format(i)), end=\"\")\n",
    "        if len(exact):\n",
    "            print(\"{:^16}\".format(\"Error\"),end=\"\")\n",
    "        print()\n",
    "    # impresión línea a línea\n",
    "    def printLine(x,y,n,z = None):\n",
    "        print(\"{:16.10f}\".format(x),end=\"\")\n",
    "        for i in range (n):\n",
    "            print(\"{:16.10f}\".format(y[i]),end=\"\")\n",
    "        if z != None:\n",
    "            print(\"{:16.10f}\".format(z),end=\"\")\n",
    "        print()\n",
    "    m = len(Y)\n",
    "    try: \n",
    "        n = len(Y[0])\n",
    "    except TypeError: \n",
    "        n = 1\n",
    "    if freq == 0: \n",
    "        freq = m\n",
    "    printHead(n)\n",
    "    if len(exact):\n",
    "        exact = abs(exact-Y[:,0])\n",
    "        ret = exact.max()\n",
    "    else:\n",
    "        exact = m*[None]\n",
    "        ret = None\n",
    "    for i in range(0,m,freq):\n",
    "            printLine(X[i],Y[i],n,exact[i])\n",
    "    if i != m - 1: \n",
    "        printLine(X[m - 1],Y[m - 1],n,exact[m-1])\n",
    "    return ret\n",
    "\n",
    "# solución de una ecuación o sistema\n",
    "\"\"\" \n",
    "X,Y = edosolver(F,x,y,xStop,h,method=metodo).\n",
    "Resolución de un problema de valores iniciales y' = F(x,y), donde\n",
    "y = (y[0],y[1],...y[n-1]).\n",
    "    x,y = condiciones iniciales\n",
    "    xStop = valor final para x\n",
    "    h = paso de integración\n",
    "    F = función escrita por el usuario que retorna un \n",
    "    array F(x,y) = (y'[0],y'[1],...,y'[n-1]).\n",
    "    metodo = \"Euler\" (defecto), \"EulerM\", \"medioPaso\", \"RK\"\n",
    "\"\"\"\n",
    "def edosolver(F, x, y0, xStop = 1., h = 0.1, method = \"Euler\"):\n",
    "    def Euler(F,x,y,h):\n",
    "        return y + h*F(x,y)\n",
    "    def EulerM(F,x,y,h):\n",
    "        return y + h/2*( F(x,y) + F(x+h,y+h*F(x,y)))\n",
    "    def medioPaso(F,x,y,h):\n",
    "        return y + h*(F(x+h/2, y + h/2*F(x,y)))\n",
    "    def RK(F,x,y,h):\n",
    "        K0 = h*F(x,y)\n",
    "        K1 = h*F(x + h/2, y + K0/2)\n",
    "        K2 = h*F(x + h/2, y + K1/2)\n",
    "        K3 = h*F(x + h, y + K2)\n",
    "        return  y + (K0 + 2*K1 + 2*K2 + K3)/6.0\n",
    "    if not type(y0) is list:\n",
    "        y = array([y0])\n",
    "    else:\n",
    "        y = array(y0)\n",
    "    if x >= xStop:\n",
    "        print(\"Error: no hay intervalo. Calculando en (0,1)\")\n",
    "        x = 0.\n",
    "        xStop = 1.\n",
    "    metodo = locals()[method]\n",
    "    \n",
    "    X = arange(x,xStop+h,h)\n",
    "    Y = zeros((X.shape[0],y.shape[0]))\n",
    "    Y[0,:] = y\n",
    "    for i in range(X.shape[0]-1):\n",
    "        Y[i+1,:] = metodo(F,X[i],Y[i,:],h)\n",
    "    return X,Y\n",
    "\n",
    "\n",
    "\n",
    "# dibujo de resultados\n",
    "\"\"\"\n",
    "dibujar(X,Y,[yExact])\n",
    "Dibuja la solución la primera componente de la \n",
    "solución del sistema, o la solución de la edo\n",
    "Dibuja opcionalmente la solución exacta\n",
    "\"\"\"\n",
    "def dibujar(X,*Y):\n",
    "    if len(Y)>1:\n",
    "        for i in range(len(Y)-1):\n",
    "            plt.plot(X,Y[i][:,0],'o',label=\"Num \"+str(i+1))\n",
    "        plt.plot(X,Y[len(Y)-1],'-',label=\"Exacta\")\n",
    "        plt.legend(('Numerica','Exacta'),loc=0)\n",
    "    else:\n",
    "        plt.plot(X,Y[0][:,0],'-o',label = \"Numérica\")\n",
    "    plt.legend(loc=0)\n",
    "    plt.xlabel('x'); plt.ylabel('y')\n"
   ]
  },
  {
   "cell_type": "markdown",
   "metadata": {
    "id": "mfDRtWSWHaCL"
   },
   "source": [
    "## Planteamiento del problema\n",
    "\n",
    "Para resolver un problema de valores iniciales para una ecuación o sistema diferencial, hemos de escribir la ecuación o sistema en la forma $$y'=f(x,y),\\quad y(x_0)=y_0$$\n",
    "e identificar la función $f$, y los valores $x_0$ e $y_0$. Eventualmente, estas funciones y valores pueden ser vectoriales. Las ecuaciones de orden superior han de transformarse en un sistema de primer orden."
   ]
  },
  {
   "cell_type": "markdown",
   "metadata": {
    "id": "-OdUvpODHaCM"
   },
   "source": [
    "### Ejemplo 1:\n",
    "Resolver el problema de valor inicial: $$y' = -xy,\\quad y(0) = 1$$\n",
    "en el intervalo $[0,1]$\n",
    "\n",
    "Comenzamos definiendo la función $f(x,y)$:"
   ]
  },
  {
   "cell_type": "code",
   "execution_count": null,
   "metadata": {
    "id": "AzCgucAHHaCN"
   },
   "outputs": [],
   "source": [
    "def F(x,y):\n",
    "    return -x*y"
   ]
  },
  {
   "cell_type": "markdown",
   "metadata": {
    "id": "M3_3qeVqHaCR"
   },
   "source": [
    "Definimos el resto de datos: punto inicial $x_0$, dato inicial $y_0$, instante final $x_T$ (nótese que la ecuación se resolverán en el intervalo $[x_0,x_T]$), y el tamaño de paso $h$"
   ]
  },
  {
   "cell_type": "code",
   "execution_count": null,
   "metadata": {
    "id": "aD-RBZwaHaCS"
   },
   "outputs": [],
   "source": [
    "x0 = 0.\n",
    "xStop = 1.\n",
    "y0 = 1.0\n",
    "h = 0.1"
   ]
  },
  {
   "cell_type": "markdown",
   "metadata": {
    "id": "BGkrwSK8HaCW"
   },
   "source": [
    "Empleamos el método de Euler usando la función `euler`"
   ]
  },
  {
   "cell_type": "code",
   "execution_count": null,
   "metadata": {
    "id": "AbLWZw6JHaCW"
   },
   "outputs": [],
   "source": [
    "X, Y = edosolver(F,x0,y0,xStop,h)"
   ]
  },
  {
   "cell_type": "markdown",
   "metadata": {
    "id": "Ceg4Kmg5HaCa"
   },
   "source": [
    "Obtenemos resultados y dibujamos la solución obtenida y la solución exacta"
   ]
  },
  {
   "cell_type": "code",
   "execution_count": null,
   "metadata": {
    "id": "XKGKkI7dHaCb",
    "outputId": "a9ee1dbc-d1d8-4f2c-8594-fd947fcd3623"
   },
   "outputs": [],
   "source": [
    "yExact = exp(-X**2/2)\n",
    "dibujar(X,Y,yExact)"
   ]
  },
  {
   "cell_type": "markdown",
   "metadata": {
    "id": "J_P7x8soHaCg"
   },
   "source": [
    "Impresión de valores de la solución en el punto inicial y final:"
   ]
  },
  {
   "cell_type": "code",
   "execution_count": null,
   "metadata": {
    "id": "qs-yMdutHaCh",
    "outputId": "6abe7dec-ec72-41bb-f919-f44df785ff17"
   },
   "outputs": [],
   "source": [
    "printSoln(X,Y)"
   ]
  },
  {
   "cell_type": "markdown",
   "metadata": {
    "id": "26mivCqvHaCl"
   },
   "source": [
    "También se puede imprimir el error en valor absoluto respecto de la solución exacta, cada cierto número de valores. En este caso, la función devuelve el máximo error."
   ]
  },
  {
   "cell_type": "code",
   "execution_count": null,
   "metadata": {
    "id": "j7mgw_JGHaCm",
    "outputId": "e4145992-bcf1-4adb-b82e-a3782357f3e0"
   },
   "outputs": [],
   "source": [
    "printSoln(X,Y,0,yExact)"
   ]
  },
  {
   "cell_type": "markdown",
   "metadata": {},
   "source": [
    "O en todos los puntos:"
   ]
  },
  {
   "cell_type": "code",
   "execution_count": null,
   "metadata": {},
   "outputs": [],
   "source": [
    "printSoln(X,Y,1,yExact)"
   ]
  },
  {
   "cell_type": "markdown",
   "metadata": {
    "id": "mfRBm3kIHaCq"
   },
   "source": [
    "### Ejemplo 2\n",
    "Resolver la ecuación $$y'' + 0.1y' = -x, \\quad y(0)=0,\\ y'(0)=1$$\n",
    "en el intervalo $[0,4]$.\n",
    "\n",
    "Para ello hemos de convertir la ecuación en un sistema. Haciendo $y_1 = y$, $y_2 = y_1'$, \n",
    "$$\\left\\{ \\begin{array}{l} y_1'  = y_2 \\\\ y_2'  = -0.1y_2 - x\\end{array}\\right.\\quad \\mbox{con }y_1(0)=0,\\ y_2(0)=1$$"
   ]
  },
  {
   "cell_type": "code",
   "execution_count": null,
   "metadata": {
    "id": "j5b5PDaqHaCr",
    "outputId": "ac482907-f3be-4710-aefa-1a2d1cd7171e"
   },
   "outputs": [],
   "source": [
    "def F(x,y):\n",
    "    val = zeros(2) # definición de vector de 2 componentes\n",
    "    val[0] = y[1]\n",
    "    val[1] = -0.1*y[1] - x\n",
    "    return val\n",
    "\n",
    "# Instante inicial\n",
    "x0 = 0.0\n",
    "# Instante final\n",
    "xStop = 10.0 \n",
    "# Valores iniciales\n",
    "y0 = [0.0, 1.0]\n",
    "# Tamaño del paso\n",
    "h = 0.5\n",
    "\n",
    "# solución mediante el método de Euler\n",
    "X,Y = edosolver(F,x0,y0,xStop,h,\"Euler\")\n",
    "\n",
    "# Solución exacta\n",
    "yExact = 100.0*X - 5.0*X**2 + 990.0*(exp(-0.1*X) - 1.0)\n",
    "\n",
    "dibujar(X,Y,yExact)\n",
    "printSoln(X,Y,0,yExact)"
   ]
  },
  {
   "cell_type": "markdown",
   "metadata": {},
   "source": [
    "Comparamos con otros métodos:"
   ]
  },
  {
   "cell_type": "code",
   "execution_count": null,
   "metadata": {},
   "outputs": [],
   "source": [
    "X, Y2 = edosolver(F,x0,y0,xStop,h,method='EulerM')\n",
    "X, Y3 = edosolver(F,x0,y0,xStop,h,method='medioPaso')\n",
    "X, Y4 = edosolver(F,x0,y0,xStop,h,method='RK')\n",
    "dibujar(X,Y,Y2,Y3,Y4,yExact)"
   ]
  },
  {
   "cell_type": "code",
   "execution_count": null,
   "metadata": {},
   "outputs": [],
   "source": [
    "plt.figure(1)\n",
    "dibujar(X,Y,yExact)\n",
    "plt.figure(2)\n",
    "dibujar(X,Y2,yExact)\n",
    "plt.figure(3)\n",
    "dibujar(X,Y3,yExact)\n",
    "plt.figure(4)\n",
    "dibujar(X,Y4,yExact)"
   ]
  },
  {
   "cell_type": "markdown",
   "metadata": {},
   "source": [
    "## Problemas rígidos"
   ]
  },
  {
   "cell_type": "markdown",
   "metadata": {},
   "source": [
    "Resolver la ecuación\n",
    "$$y' = 3y -4e^{-x},\\quad y(0)=1$$\n",
    "en el intervalo $[0,10]$, mediante el método de Runge-Kutta de orden 4, con paso $h=0.1$"
   ]
  },
  {
   "cell_type": "code",
   "execution_count": null,
   "metadata": {},
   "outputs": [],
   "source": [
    "def F(x,y):\n",
    "    return 3*y-4*exp(-x)\n",
    "\n",
    "# Instante inicial\n",
    "x0 = 0.0\n",
    "# Instante final\n",
    "xStop = 6\n",
    "# Valores iniciales\n",
    "y0 = 1.\n",
    "\n",
    "# Tamaño del paso\n",
    "h = 0.001\n",
    "# solución mediante el método de Euler\n",
    "X,Y = edosolver(F,x0,y0,xStop,h,\"RK\")\n",
    "\n",
    "# Solución exacta\n",
    "yExact = exp(-X)\n",
    "\n",
    "dibujar(X,Y,yExact)\n",
    "printSoln(X,Y,0,yExact)"
   ]
  },
  {
   "cell_type": "markdown",
   "metadata": {},
   "source": [
    "#### Otro ejemplo de problema rígido\n",
    "$$\\begin{array}{l}\n",
    "y_1' = -16y_1 +12y_2 + 16\\cos(x)-13\\sin(x) \\\\\n",
    "y_2' = 12y_1 - 9y_2 -11\\cos(x) + 9\\sin(x)\\end{array}\\quad y_1(0)=1,\\ y_2(0)=0$$"
   ]
  },
  {
   "cell_type": "code",
   "execution_count": null,
   "metadata": {},
   "outputs": [],
   "source": [
    "def F(x,y):\n",
    "    val = zeros(2) # definición de vector de 2 componentes\n",
    "    val[0] = -16*y[0] +12*y[1] +16*cos(x) - 13*sin(x)\n",
    "    val[1] = 12*y[0] -9*y[1] -11*cos(x) + 9*sin(x)\n",
    "    return val\n",
    "\n",
    "# Instante inicial\n",
    "x0 = 0.0\n",
    "# Instante final\n",
    "xStop = pi \n",
    "# Valores iniciales\n",
    "y0 = [1.0, 0.0]\n",
    "\n",
    "# Tamaño del paso\n",
    "n = 25\n",
    "h = pi/n\n",
    "# solución mediante el método de Euler\n",
    "X,Y = edosolver(F,x0,y0,xStop,h,\"RK\")\n",
    "\n",
    "# Solución exacta\n",
    "yExact = cos(X)\n",
    "\n",
    "dibujar(X,Y,yExact)\n",
    "printSoln(X,Y,0,yExact)"
   ]
  },
  {
   "cell_type": "code",
   "execution_count": null,
   "metadata": {},
   "outputs": [],
   "source": []
  },
  {
   "cell_type": "code",
   "execution_count": null,
   "metadata": {},
   "outputs": [],
   "source": []
  }
 ],
 "metadata": {
  "colab": {
   "name": "eurler.ipynb",
   "provenance": []
  },
  "kernelspec": {
   "display_name": "Python 3",
   "language": "python",
   "name": "python3"
  },
  "language_info": {
   "codemirror_mode": {
    "name": "ipython",
    "version": 3
   },
   "file_extension": ".py",
   "mimetype": "text/x-python",
   "name": "python",
   "nbconvert_exporter": "python",
   "pygments_lexer": "ipython3",
   "version": "3.8.5"
  }
 },
 "nbformat": 4,
 "nbformat_minor": 4
}

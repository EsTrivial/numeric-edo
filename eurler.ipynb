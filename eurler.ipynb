{
 "cells": [
  {
   "cell_type": "markdown",
   "metadata": {},
   "source": [
    "## Preliminares"
   ]
  },
  {
   "cell_type": "markdown",
   "metadata": {},
   "source": [
    "La siguiente celda contiene todas las funciones necesarias para ejecutar el resto del cuaderno. Debes ejecutarla siempre en primer lugar"
   ]
  },
  {
   "cell_type": "code",
   "execution_count": 2,
   "metadata": {},
   "outputs": [],
   "source": [
    "from numpy import *\n",
    "import matplotlib.pyplot as plt\n",
    "from scipy.integrate import odeint\n",
    "\n",
    "# impresión de resultados\n",
    "\"\"\"\n",
    "printSoln(X,Y,freq,[exact]).\n",
    "Imprime los valores de X e Y cada 'freq' pasos\n",
    "freq = n imprime cada n pasos\n",
    "freq = 0 imprime solo el paso final\n",
    "Imprime (opcionalmente) el error entre la solución \n",
    "exacta (exact) y la calculada (Y)\n",
    "Retorna (opcionalmente) el máximo valor absoluto del error\n",
    "\"\"\"\n",
    "def printSoln(X, Y, freq, exact = []):\n",
    "    # imprime cabecera\n",
    "    def printHead(n):\n",
    "        print(\"\\n\", end=\"\")\n",
    "        print(\"{:^15}\".format('x'), end=\"\")\n",
    "        if n == 1:\n",
    "            print(\"{:^15}\".format(\"y\"), end=\"\")\n",
    "        else:\n",
    "            for i in range (n):\n",
    "                print(\"{:^15}\".format(\"y[{}]\".format(i)), end=\"\")\n",
    "        if len(exact):\n",
    "            print(\"{:^14}\".format(\"Error\"),end=\"\")\n",
    "        print()\n",
    "    # impresión línea a línea\n",
    "    def printLine(x,y,n,z = None):\n",
    "        print(\"{:14.10f}\".format(x),end=\"\")\n",
    "        for i in range (n):\n",
    "            print(\"{:14.10f}\".format(y[i]),end=\"\")\n",
    "        if z != None:\n",
    "            print(\"{:14.10f}\".format(z),end=\"\")\n",
    "        print()\n",
    "    m = len(Y)\n",
    "    try: \n",
    "        n = len(Y[0])\n",
    "    except TypeError: \n",
    "        n = 1\n",
    "    if freq == 0: \n",
    "        freq = m\n",
    "    printHead(n)\n",
    "    if len(exact):\n",
    "        exact = abs(exact-Y[:,0])\n",
    "        ret = exact.max()\n",
    "    else:\n",
    "        exact = m*[None]\n",
    "        ret = None\n",
    "    for i in range(0,m,freq):\n",
    "            printLine(X[i],Y[i],n,exact[i])\n",
    "    if i != m - 1: \n",
    "        printLine(X[m - 1],Y[m - 1],n,exact[m-1])\n",
    "    return ret\n",
    "\n",
    "def convert2array(y):\n",
    "    if not type(y) is list:\n",
    "        y0 =[y]\n",
    "        return array(y0)\n",
    "    return array(y)\n",
    "\n",
    "# método de Euler\n",
    "\"\"\" \n",
    "X,Y = euler(F,x,y,xStop,h).\n",
    "Método de Euler para resolver un problema \n",
    "de valores iniciales y' = F(x,y), donde\n",
    "y = (y[0],y[1],...y[n-1]).\n",
    "    x,y = condiciones iniciales\n",
    "    xStop = valor final para x\n",
    "    h = paso de integración\n",
    "    F = función escrita por el usuario que retorna un \n",
    "    array F(y,x) = (y'[0],y'[1],...,y'[n-1]).\n",
    "\"\"\"\n",
    "def euler(F, x, y0, xStop = 1., h = 0.1):\n",
    "    y = convert2array(y0)\n",
    "    if x >= xStop:\n",
    "        print(\"Error: no hay intervalo. Calculando en (0,1)\")\n",
    "        x = 0.\n",
    "        xStop = 1.\n",
    "    X = arange(x,xStop+h,h)\n",
    "    Y = zeros((X.shape[0],y.shape[0]))\n",
    "    Y[0,:] = y\n",
    "    for i in range(X.shape[0]-1):\n",
    "        Y[i+1,:] = Y[i,:] + h*F(Y[i,:],X[i])\n",
    "    return X,Y\n",
    "\n",
    "\n",
    "# método de Euler Modificado\n",
    "\"\"\" \n",
    "X,Y = eulerModificado(F,x,y,xStop,h).\n",
    "Método de Euler Modificado para resolver un problema \n",
    "de valores iniciales y' = F(x,y), donde\n",
    "y = (y[0],y[1],...y[n-1]).\n",
    "    x,y = condiciones iniciales\n",
    "    xStop = valor final para x\n",
    "    h = paso de integración\n",
    "    F = función escrita por el usuario que retorna un \n",
    "    array F(y,x) = (y'[0],y'[1],...,y'[n-1]).\n",
    "\"\"\"\n",
    "def eulerModificado(F, x, y0, xStop = 1., h = 0.1):\n",
    "    y = convert2array(y0)\n",
    "    if x >= xStop:\n",
    "        print(\"Error: no hay intervalo. Calculando en (0,1)\")\n",
    "        x = 0.\n",
    "        xStop = 1.\n",
    "    X = arange(x,xStop+h,h)\n",
    "    Y = zeros((X.shape[0],y.shape[0]))\n",
    "    Y[0,:] = y\n",
    "    for i in range(X.shape[0]-1):\n",
    "        Y[i+1,:] = Y[i,:] + h/2*( F(Y[i,:],X[i]) + F(Y[i,:]+h*F(Y[i,:],X[i]),X[i+1]))\n",
    "    return X,Y\n",
    "\n",
    "\n",
    "# método de Medio Paso\n",
    "\"\"\" \n",
    "X,Y = medioPaso(F,x,y,xStop,h).\n",
    "Método de Euler Modificado para resolver un problema \n",
    "de valores iniciales y' = F(x,y), donde\n",
    "y = (y[0],y[1],...y[n-1]).\n",
    "    x,y = condiciones iniciales\n",
    "    xStop = valor final para x\n",
    "    h = paso de integración\n",
    "    F = función escrita por el usuario que retorna un \n",
    "    array F(y,x) = (y'[0],y'[1],...,y'[n-1]).\n",
    "\"\"\"\n",
    "def medioPaso(F, x, y0, xStop = 1., h = 0.1):\n",
    "    y = convert2array(y0)    \n",
    "    if x >= xStop:\n",
    "        print(\"Error: no hay intervalo. Calculando en (0,1)\")\n",
    "        x = 0.\n",
    "        xStop = 1.\n",
    "    X = arange(x,xStop+h,h)\n",
    "    Y = zeros((X.shape[0],y.shape[0]))\n",
    "    Y[0,:] = y\n",
    "    for i in range(X.shape[0]-1):\n",
    "        Y[i+1,:] = Y[i,:] + h*(F(Y[i,:] + h/2*F(Y[i,:],X[i]),X[i]+h/2))\n",
    "    return X,Y\n",
    "\n",
    "\n",
    "\n",
    "# integración mediante odeint de scipy\n",
    "\"\"\" \n",
    "X,Y = odesolve(F,x,y,xStop,h).\n",
    "Método de Euler Modificado para resolver un problema \n",
    "de valores iniciales y' = F(x,y), donde\n",
    "y = (y[0],y[1],...y[n-1]).\n",
    "    x,y = condiciones iniciales\n",
    "    xStop = valor final para x\n",
    "    h = paso de integración\n",
    "    F = función escrita por el usuario que retorna un \n",
    "    array F(y,x) = (y'[0],y'[1],...,y'[n-1]).\n",
    "\"\"\"\n",
    "def odesolve(F, x, y0, xStop = 1., h = 0.1):\n",
    "    y = convert2array(y0)    \n",
    "    X = arange(x,xStop+h,h)\n",
    "    Y = odeint(F, y, X)\n",
    "    return X,Y\n",
    "\n",
    "\n",
    "\n",
    "# dibujo de resultados\n",
    "\"\"\"\n",
    "dibujar(X,Y,[yExact])\n",
    "Dibuja la solución la primera componente de la \n",
    "solución del sistema, o la solución de la edo\n",
    "Dibuja opcionalmente la solución exacta\n",
    "\"\"\"\n",
    "def dibujar(X,*Y):\n",
    "    if len(Y)>1:\n",
    "        for i in range(len(Y)-1):\n",
    "            plt.plot(X,Y[i][:,0],'o',label=\"Num \"+str(i+1))\n",
    "        plt.plot(X,Y[len(Y)-1],'-',label=\"Exacta\")\n",
    "        plt.legend(('Numerica','Exacta'),loc=0)\n",
    "    else:\n",
    "        plt.plot(X,Y[0][:,0],'-o',label = \"Numérica\")\n",
    "    plt.legend(loc=0)\n",
    "    plt.xlabel('x'); plt.ylabel('y')\n"
   ]
  },
  {
   "cell_type": "markdown",
   "metadata": {},
   "source": [
    "## Planteamiento del problema\n",
    "\n",
    "Para resolver un problema de valores iniciales para una ecuación o sistema diferencial, hemos de escribir la ecuación o sistema en la forma $$y'=f(y,x),\\quad y(x_0)=y_0$$\n",
    "e identificar la función $f$, y los valores $x_0$ e $y_0$. Eventualmente, estas funciones y valores pueden ser vectoriales. Las ecuaciones de orden superior han de transformarse en un sistema de primer orden."
   ]
  },
  {
   "cell_type": "markdown",
   "metadata": {},
   "source": [
    "### Ejemplo 1:\n",
    "Resolver el problema de valor inicial: $$y' = -xy,\\quad y(0) = 1$$\n",
    "en el intervalo $[0,1]$\n",
    "\n",
    "Comenzamos definiendo la función $f(y,x)$. Atención al orden de las variables"
   ]
  },
  {
   "cell_type": "code",
   "execution_count": 89,
   "metadata": {},
   "outputs": [],
   "source": [
    "def F(y,x):\n",
    "    F = -x*y\n",
    "    return F"
   ]
  },
  {
   "cell_type": "markdown",
   "metadata": {},
   "source": [
    "Definimos el resto de datos: punto inicial $x_0$, dato inicial $y_0$, instante final $x_T$ (nótese que la ecuación se resolverán en el intervalo $[x_0,x_T]$), y el tamaño de paso $h$"
   ]
  },
  {
   "cell_type": "code",
   "execution_count": 90,
   "metadata": {},
   "outputs": [],
   "source": [
    "x0 = 0.\n",
    "xStop = 1.\n",
    "y0 = 1.0\n",
    "h = 0.1"
   ]
  },
  {
   "cell_type": "markdown",
   "metadata": {},
   "source": [
    "Empleamos el método de Euler usando la función `euler`"
   ]
  },
  {
   "cell_type": "code",
   "execution_count": 91,
   "metadata": {},
   "outputs": [],
   "source": [
    "X, Y = euler(F,x0,y0,xStop,h)"
   ]
  },
  {
   "cell_type": "markdown",
   "metadata": {},
   "source": [
    "Obtenemos resultados y dibujamos la solución obtenida y la solución exacta"
   ]
  },
  {
   "cell_type": "code",
   "execution_count": 92,
   "metadata": {},
   "outputs": [
    {
     "data": {
      "image/png": "[encoded data removed]",
      "text/plain": [
       "<Figure size 432x288 with 1 Axes>"
      ]
     },
     "metadata": {
      "needs_background": "light"
     },
     "output_type": "display_data"
    }
   ],
   "source": [
    "yExact = exp(-X**2/2)\n",
    "dibujar(X,Y,yExact)"
   ]
  },
  {
   "cell_type": "markdown",
   "metadata": {},
   "source": [
    "Impresión de valores de la solución"
   ]
  },
  {
   "cell_type": "code",
   "execution_count": 93,
   "metadata": {},
   "outputs": [
    {
     "name": "stdout",
     "output_type": "stream",
     "text": [
      "\n",
      "       x              y       \n",
      "  0.0000000000  1.0000000000\n",
      "  0.1000000000  1.0000000000\n",
      "  0.2000000000  0.9900000000\n",
      "  0.3000000000  0.9702000000\n",
      "  0.4000000000  0.9410940000\n",
      "  0.5000000000  0.9034502400\n",
      "  0.6000000000  0.8582777280\n",
      "  0.7000000000  0.8067810643\n",
      "  0.8000000000  0.7503063898\n",
      "  0.9000000000  0.6902818786\n",
      "  1.0000000000  0.6281565096\n"
     ]
    }
   ],
   "source": [
    "printSoln(X,Y,1)"
   ]
  },
  {
   "cell_type": "markdown",
   "metadata": {},
   "source": [
    "También se puede imprimir el error en valor absoluto respecto de la solución exacta, y cada cierto número de valores. En este caso, la función devuelve el máximo error."
   ]
  },
  {
   "cell_type": "code",
   "execution_count": 95,
   "metadata": {},
   "outputs": [
    {
     "name": "stdout",
     "output_type": "stream",
     "text": [
      "\n",
      "       x              y           Error     \n",
      "  0.0000000000  1.0000000000  0.0000000000\n",
      "  0.3000000000  0.9702000000  0.0142025182\n",
      "  0.6000000000  0.8582777280  0.0230075166\n",
      "  0.9000000000  0.6902818786  0.0233050678\n",
      "  1.0000000000  0.6281565096  0.0216258498\n"
     ]
    },
    {
     "data": {
      "text/plain": [
       "0.024157352743909177"
      ]
     },
     "execution_count": 95,
     "metadata": {},
     "output_type": "execute_result"
    }
   ],
   "source": [
    "printSoln(X,Y,3,yExact)"
   ]
  },
  {
   "cell_type": "markdown",
   "metadata": {},
   "source": [
    "### Ejemplo 2\n",
    "Resolver la ecuación $$y'' + 0.1y' = -x, \\quad y(0)=0,\\ y'(0)=1$$\n",
    "en el intervalo $[0,4]$.\n",
    "\n",
    "Para ello hemos de convertir la ecuación en un sistema. Haciendo $y_0 = y$, $y_1 = y_0'$, \n",
    "$$\\left\\{ \\begin{array}{l} y_0'  = y_1 \\\\ y_1'  = -0.1y_1 - x\\end{array}\\right.\\quad \\mbox{con }y_0(0)=0,\\ y_1(0)=1$$"
   ]
  },
  {
   "cell_type": "code",
   "execution_count": 7,
   "metadata": {},
   "outputs": [
    {
     "data": {
      "image/png": "[encoded data removed]",
      "text/plain": [
       "<Figure size 432x288 with 1 Axes>"
      ]
     },
     "metadata": {
      "needs_background": "light"
     },
     "output_type": "display_data"
    }
   ],
   "source": [
    "def F(y,x):\n",
    "    F = zeros(2) # definición de vector de 2 componentes\n",
    "    F[0] = y[1]\n",
    "    F[1] = -0.1*y[1] - x\n",
    "    return F\n",
    "\n",
    "# Instante inicial\n",
    "x0 = 0.0\n",
    "# Instante final\n",
    "xStop = 4.0 \n",
    "# Valores iniciales\n",
    "y0 = [0.0, 1.0]\n",
    "\n",
    "# Tamaño del paso\n",
    "h = 0.01\n",
    "# solución mediante el método de Euler\n",
    "X,Y = euler(F,x0,y0,xStop,h)\n",
    "\n",
    "# Solución exacta\n",
    "yExact = 100.0*X - 5.0*X**2 + 990.0*(exp(-0.1*X) - 1.0)\n",
    "\n",
    "dibujar(X,Y,yExact)"
   ]
  }
 ],
 "metadata": {
  "kernelspec": {
   "display_name": "Python 3",
   "language": "python",
   "name": "python3"
  },
  "language_info": {
   "codemirror_mode": {
    "name": "ipython",
    "version": 3
   },
   "file_extension": ".py",
   "mimetype": "text/x-python",
   "name": "python",
   "nbconvert_exporter": "python",
   "pygments_lexer": "ipython3",
   "version": "3.8.5"
  }
 },
 "nbformat": 4,
 "nbformat_minor": 4
}
